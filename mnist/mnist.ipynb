{
 "cells": [
  {
   "cell_type": "markdown",
   "metadata": {},
   "source": [
    "Scratch Jupyter Noteboook"
   ]
  },
  {
   "cell_type": "code",
   "execution_count": null,
   "metadata": {},
   "outputs": [],
   "source": [
    "import numpy as np\n",
    "from numpy.typing import NDArray\n",
    "import matplotlib.pyplot as plt\n",
    "import nonlinear_approximator as na\n",
    "from importlib import reload\n",
    "import torch\n",
    "import torchvision\n",
    "import PIL\n",
    "%matplotlib inline\n",
    "from dask.distributed import Client, LocalCluster\n",
    "import dask\n",
    "import dask.array as da"
   ]
  },
  {
   "cell_type": "markdown",
   "metadata": {},
   "source": [
    "Dask Client for Distributed Computation "
   ]
  },
  {
   "cell_type": "markdown",
   "metadata": {},
   "source": [
    "# Load and Plot MNIST Dataset "
   ]
  },
  {
   "cell_type": "code",
   "execution_count": null,
   "metadata": {},
   "outputs": [],
   "source": [
    "def one_hot_ten(int_label: torch.Tensor) -> NDArray[np.floating]:\n",
    "    oh = np.zeros((10,))\n",
    "    oh[int_label] = 1\n",
    "    return oh\n",
    "\n",
    "def to_numpy_arr(img: PIL.Image) -> NDArray[np.floating]:\n",
    "    # rescale 255 to +/- 1 \n",
    "    arr = np.asarray(img).flatten()\n",
    "    arr = arr / 255 # 0 --> 1\n",
    "    arr = arr - .5  # -.5 --> .5\n",
    "    arr = 2 * arr   # -1 --> 1\n",
    "    return arr\n",
    "    \n",
    "    \n"
   ]
  },
  {
   "cell_type": "code",
   "execution_count": null,
   "metadata": {},
   "outputs": [],
   "source": [
    "train_data = torchvision.datasets.MNIST(root='./data', download=True, train=True, transform=to_numpy_arr, target_transform=one_hot_ten)\n",
    "test_data = torchvision.datasets.MNIST(root='./data', download=True, train=False, transform=to_numpy_arr, target_transform=one_hot_ten)"
   ]
  },
  {
   "cell_type": "code",
   "execution_count": null,
   "metadata": {},
   "outputs": [],
   "source": [
    "num_rows = 2\n",
    "num_cols = 5\n",
    "\n",
    "fig, axes = plt.subplots(num_rows, num_cols, figsize=(1.5*num_cols,2*num_rows))\n",
    "for i in range(num_rows*num_cols):\n",
    "    ax = axes[i//num_cols, i%num_cols]\n",
    "    ax.imshow(train_data[i][0].reshape((28, 28)), cmap='gray')\n",
    "    ax.set_title('Label: {}'.format(np.argmax(train_data[i][1])))\n",
    "plt.tight_layout()\n",
    "plt.show()"
   ]
  },
  {
   "cell_type": "markdown",
   "metadata": {},
   "source": [
    "# Parameters"
   ]
  },
  {
   "cell_type": "code",
   "execution_count": null,
   "metadata": {},
   "outputs": [],
   "source": [
    "reload(na)\n",
    "reload(na.model)\n",
    "reload(na.activations)\n",
    "reload(na.params)\n",
    "reload(na.training)\n",
    "\n",
    "config = na.params.RegressionParams(\n",
    "    width=1000,\n",
    "    depth=50,\n",
    "    input_dimension=len(train_data[0][0]),\n",
    "    transform_type=na.activations.TransformType.TENT,\n",
    "    transform_params=na.params.TentParams(mu=1.99),\n",
    "    output_dimension=len(train_data[0][1]),\n",
    "    batch_size=1000,\n",
    ")\n"
   ]
  },
  {
   "cell_type": "markdown",
   "metadata": {},
   "source": [
    "# Instantiate Model"
   ]
  },
  {
   "cell_type": "code",
   "execution_count": null,
   "metadata": {},
   "outputs": [],
   "source": [
    "model = na.model.NonlinearRegressorModel(config)\n",
    "imgs_train, labels_train = zip(*train_data)\n",
    "imgs_train = da.array(imgs_train).persist()\n",
    "labels_train = da.array(labels_train).persist()\n",
    "\n",
    "imgs_test, labels_test = zip(*test_data)\n",
    "imgs_test = da.array(imgs_test).persist()\n",
    "labels_test = da.array(labels_test).persist()\n",
    "\n",
    "print(f\"Loaded training data images with shape {imgs_train.shape}, and labels with shape {labels_train.shape}\")\n",
    "print(f\"Loaded test data images with shape {imgs_test.shape}, and labels with shape {labels_test.shape}\")\n"
   ]
  },
  {
   "cell_type": "markdown",
   "metadata": {},
   "source": [
    "# Train MNIST Classifier"
   ]
  },
  {
   "cell_type": "code",
   "execution_count": null,
   "metadata": {},
   "outputs": [],
   "source": [
    "model.fit(imgs_train[:, :], labels_train[:, :])"
   ]
  },
  {
   "cell_type": "code",
   "execution_count": null,
   "metadata": {},
   "outputs": [],
   "source": [
    "probs_train = model.predict(imgs_train[:, :])\n",
    "preds_train = probs_train.argmax(axis=0)\n",
    "acc_train = (sum(\n",
    "    preds_train == (labels_train.argmax(axis=1)[:])\n",
    "    ) / len(preds_train)).compute()"
   ]
  },
  {
   "cell_type": "code",
   "execution_count": null,
   "metadata": {},
   "outputs": [],
   "source": [
    "plt.hist(preds_train, bins=10)\n",
    "plt.hist(labels_train.argmax(axis=1)[:1000].compute(), bins=10, alpha=0.3)\n",
    "plt.title(f\"Histogram of model predicted classifications on training data. Accuracy = {100 *acc_train}%\")\n",
    "plt.xlabel(\"Digit\")\n",
    "plt.ylabel(f\"Number of classifciations (N={len(preds_train)})\")\n",
    "plt.show()"
   ]
  },
  {
   "cell_type": "code",
   "execution_count": null,
   "metadata": {},
   "outputs": [],
   "source": [
    "probs_test = model.predict(imgs_train[:,:1000]) \n",
    "preds_test = probs_test.T.argmax(axis=0)\n",
    "acc_test = sum(preds_test==labels_test.argmax(axis=0)[:1000]) / len(preds_test)\n",
    "\n",
    "plt.hist(preds_test, bins=10)\n",
    "plt.hist(labels_test.argmax(axis=0)[:1000], bins=10, alpha=0.3)\n",
    "plt.title(f\"Histogram of model predicted classifications on test data. Accuracy = {100 *acc_test}%\")\n",
    "plt.xlabel(\"Digit\")\n",
    "plt.ylabel(f\"Number of classifciations (N={len(preds_test)})\")\n",
    "plt.show()"
   ]
  }
 ],
 "metadata": {
  "kernelspec": {
   "display_name": ".venv",
   "language": "python",
   "name": "python3"
  },
  "language_info": {
   "codemirror_mode": {
    "name": "ipython",
    "version": 3
   },
   "file_extension": ".py",
   "mimetype": "text/x-python",
   "name": "python",
   "nbconvert_exporter": "python",
   "pygments_lexer": "ipython3",
   "version": "3.12.10"
  }
 },
 "nbformat": 4,
 "nbformat_minor": 2
}
