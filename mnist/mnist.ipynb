{
 "cells": [
  {
   "cell_type": "markdown",
   "metadata": {},
   "source": [
    "Scratch Jupyter Noteboook"
   ]
  },
  {
   "cell_type": "code",
   "execution_count": 1,
   "metadata": {},
   "outputs": [],
   "source": [
    "import numpy as np\n",
    "from numpy.typing import NDArray\n",
    "import matplotlib.pyplot as plt\n",
    "import tqdm\n",
    "import nonlinear_approximator as na\n",
    "from importlib import reload\n",
    "import torch\n",
    "import torchvision\n",
    "import PIL\n",
    "from pathlib import Path\n",
    "%matplotlib inline"
   ]
  },
  {
   "cell_type": "markdown",
   "metadata": {},
   "source": [
    "# Load and Plot MNIST Dataset "
   ]
  },
  {
   "cell_type": "code",
   "execution_count": 2,
   "metadata": {},
   "outputs": [],
   "source": [
    "def one_hot_ten(int_label: torch.Tensor) -> NDArray[np.floating]:\n",
    "    oh = np.zeros((10,))\n",
    "    oh[int_label] = 1\n",
    "    return oh\n",
    "\n",
    "def to_numpy_arr(img: PIL.Image) -> NDArray[np.floating]:\n",
    "    # rescale 255 to +/- 1 \n",
    "    arr = np.asarray(img).flatten()\n",
    "    arr = arr / 255 # 0 --> 1\n",
    "    arr = arr - .5  # -.5 --> .5\n",
    "    arr = 2 * arr   # -1 --> 1\n",
    "    return arr\n",
    "    \n",
    "    \n"
   ]
  },
  {
   "cell_type": "code",
   "execution_count": 3,
   "metadata": {},
   "outputs": [],
   "source": [
    "train_data = torchvision.datasets.MNIST(root='./data', download=True, train=True, transform=to_numpy_arr, target_transform=one_hot_ten)\n",
    "test_data = torchvision.datasets.MNIST(root='./data', download=True, train=False, transform=to_numpy_arr, target_transform=one_hot_ten)"
   ]
  },
  {
   "cell_type": "code",
   "execution_count": null,
   "metadata": {},
   "outputs": [
    {
     "data": {
      "image/png": "[encoded data removed]",
      "text/plain": [
       "<Figure size 750x400 with 10 Axes>"
      ]
     },
     "metadata": {},
     "output_type": "display_data"
    }
   ],
   "source": [
    "num_rows = 2\n",
    "num_cols = 5\n",
    "\n",
    "fig, axes = plt.subplots(num_rows, num_cols, figsize=(1.5*num_cols,2*num_rows))\n",
    "for i in range(num_rows*num_cols):\n",
    "    ax = axes[i//num_cols, i%num_cols]\n",
    "    ax.imshow(train_data[i][0].reshape((28, 28)), cmap='gray')\n",
    "    ax.set_title('Label: {}'.format(np.argmax(train_data[i][1])))\n",
    "plt.tight_layout()\n",
    "plt.show()"
   ]
  },
  {
   "cell_type": "markdown",
   "metadata": {},
   "source": [
    "# Parameters"
   ]
  },
  {
   "cell_type": "code",
   "execution_count": 16,
   "metadata": {},
   "outputs": [
    {
     "name": "stdout",
     "output_type": "stream",
     "text": [
      "Storage path not configured, storing all model parameters in memory.\n"
     ]
    }
   ],
   "source": [
    "reload(na)\n",
    "reload(na.model)\n",
    "reload(na.activations)\n",
    "reload(na.params)\n",
    "reload(na.training)\n",
    "\n",
    "config = na.params.RegressionParams(\n",
    "    width=1000,\n",
    "    depth=50,\n",
    "    input_dimension=len(train_data[0][0]),\n",
    "    transform_type=na.activations.TransformType.TENT,\n",
    "    transform_params=na.params.TentParams(mu=1.99),\n",
    "    output_dimension=len(train_data[0][1]),\n",
    "    neuron_chunk_size=100,\n",
    "    # storage_path=Path('mnist_data.hdf5'),\n",
    "    batch_size=1000,\n",
    ")\n",
    "model = na.model.NonlinearRegressorModel(config)\n"
   ]
  },
  {
   "cell_type": "markdown",
   "metadata": {},
   "source": [
    "# Instantiate Model"
   ]
  },
  {
   "cell_type": "code",
   "execution_count": 17,
   "metadata": {},
   "outputs": [
    {
     "name": "stdout",
     "output_type": "stream",
     "text": [
      "Storage path not configured, storing all model parameters in memory.\n",
      "Loaded training data images with shape (784, 60000), and labels with shape (10, 60000)\n",
      "Loaded test data images with shape (784, 10000), and labels with shape (10, 10000)\n"
     ]
    }
   ],
   "source": [
    "model = na.model.NonlinearRegressorModel(config)\n",
    "imgs_train, labels_train = zip(*train_data)\n",
    "imgs_train = np.asarray(imgs_train).T\n",
    "labels_train = np.asarray(labels_train).T\n",
    "\n",
    "\n",
    "imgs_test, labels_test = zip(*test_data)\n",
    "imgs_test = np.asarray(imgs_test).T\n",
    "labels_test = np.asarray(labels_test).T\n",
    "\n",
    "print(f\"Loaded training data images with shape {imgs_train.shape}, and labels with shape {labels_train.shape}\")\n",
    "print(f\"Loaded test data images with shape {imgs_test.shape}, and labels with shape {labels_test.shape}\")"
   ]
  },
  {
   "cell_type": "markdown",
   "metadata": {},
   "source": [
    "# Train MNIST Classifier"
   ]
  },
  {
   "cell_type": "code",
   "execution_count": 18,
   "metadata": {},
   "outputs": [
    {
     "name": "stdout",
     "output_type": "stream",
     "text": [
      "Passing activations with shape: (50, 1000, 1000)\n",
      "Passing output with shape (10, 1000)\n"
     ]
    },
    {
     "name": "stderr",
     "output_type": "stream",
     "text": [
      "                                                                        \r"
     ]
    },
    {
     "ename": "LinAlgError",
     "evalue": "Incompatible dimensions",
     "output_type": "error",
     "traceback": [
      "\u001b[31m---------------------------------------------------------------------------\u001b[39m",
      "\u001b[31mRemoteTraceback\u001b[39m                           Traceback (most recent call last)",
      "\u001b[31mRemoteTraceback\u001b[39m: \n\"\"\"\nTraceback (most recent call last):\n  File \"/usr/lib/python3.11/multiprocessing/pool.py\", line 125, in worker\n    result = (True, func(*args, **kwds))\n                    ^^^^^^^^^^^^^^^^^^^\n  File \"/usr/lib/python3.11/multiprocessing/pool.py\", line 51, in starmapstar\n    return list(itertools.starmap(args[0], args[1]))\n           ^^^^^^^^^^^^^^^^^^^^^^^^^^^^^^^^^^^^^^^^^\n  File \"/home/fritz/untitled/src/nonlinear_approximator/training.py\", line 42, in _regress_neuron\n    return np.linalg.lstsq(acts, target_outputs, rcond=None)[0]\n           ^^^^^^^^^^^^^^^^^^^^^^^^^^^^^^^^^^^^^^^^^^^^^^^^^\n  File \"/home/fritz/untitled/.venv/lib/python3.11/site-packages/numpy/linalg/_linalg.py\", line 2500, in lstsq\n    raise LinAlgError('Incompatible dimensions')\nnumpy.linalg.LinAlgError: Incompatible dimensions\n\"\"\"",
      "\nThe above exception was the direct cause of the following exception:\n",
      "\u001b[31mLinAlgError\u001b[39m                               Traceback (most recent call last)",
      "\u001b[36mCell\u001b[39m\u001b[36m \u001b[39m\u001b[32mIn[18]\u001b[39m\u001b[32m, line 1\u001b[39m\n\u001b[32m----> \u001b[39m\u001b[32m1\u001b[39m \u001b[43mmodel\u001b[49m\u001b[43m.\u001b[49m\u001b[43mfit\u001b[49m\u001b[43m(\u001b[49m\u001b[43mimgs_train\u001b[49m\u001b[43m[\u001b[49m\u001b[43m:\u001b[49m\u001b[43m,\u001b[49m\u001b[43m \u001b[49m\u001b[43m:\u001b[49m\u001b[32;43m1000\u001b[39;49m\u001b[43m]\u001b[49m\u001b[43m,\u001b[49m\u001b[43m \u001b[49m\u001b[43mlabels_train\u001b[49m\u001b[43m[\u001b[49m\u001b[43m:\u001b[49m\u001b[43m,\u001b[49m\u001b[43m:\u001b[49m\u001b[32;43m1000\u001b[39;49m\u001b[43m]\u001b[49m\u001b[43m)\u001b[49m\n",
      "\u001b[36mFile \u001b[39m\u001b[32m~/untitled/src/nonlinear_approximator/model.py:64\u001b[39m, in \u001b[36mNonlinearRegressorModel.fit\u001b[39m\u001b[34m(self, input_x, output_y)\u001b[39m\n\u001b[32m     57\u001b[39m     activations_train = compute_activations(\n\u001b[32m     58\u001b[39m         \u001b[38;5;28mself\u001b[39m.neurons,\n\u001b[32m     59\u001b[39m         input_x=input_x,\n\u001b[32m     60\u001b[39m         config=\u001b[38;5;28mself\u001b[39m.config\n\u001b[32m     61\u001b[39m     )  \n\u001b[32m     63\u001b[39m     \u001b[38;5;28mprint\u001b[39m(\u001b[33mf\u001b[39m\u001b[33m\"\u001b[39m\u001b[33mPassing activations with shape: \u001b[39m\u001b[38;5;132;01m{\u001b[39;00mactivations_train.shape\u001b[38;5;132;01m}\u001b[39;00m\u001b[38;5;130;01m\\n\u001b[39;00m\u001b[33mPassing output with shape \u001b[39m\u001b[38;5;132;01m{\u001b[39;00moutput_y.shape\u001b[38;5;132;01m}\u001b[39;00m\u001b[33m\"\u001b[39m)\n\u001b[32m---> \u001b[39m\u001b[32m64\u001b[39m     \u001b[38;5;28mself\u001b[39m.decoders = \u001b[43mcompute_decoders\u001b[49m\u001b[43m(\u001b[49m\u001b[43mactivations_train\u001b[49m\u001b[43m,\u001b[49m\u001b[43m \u001b[49m\u001b[43moutput_y\u001b[49m\u001b[43m,\u001b[49m\u001b[43m \u001b[49m\u001b[38;5;28;43mself\u001b[39;49m\u001b[43m.\u001b[49m\u001b[43mconfig\u001b[49m\u001b[43m)\u001b[49m   \n\u001b[32m     66\u001b[39m \u001b[38;5;28;01melse\u001b[39;00m: \u001b[38;5;66;03m# use persistent storage\u001b[39;00m\n\u001b[32m     67\u001b[39m     \u001b[38;5;28mself\u001b[39m._check_storage_path_configured()\n",
      "\u001b[36mFile \u001b[39m\u001b[32m~/untitled/src/nonlinear_approximator/training.py:141\u001b[39m, in \u001b[36mcompute_decoders\u001b[39m\u001b[34m(activations, target_output, config)\u001b[39m\n\u001b[32m    136\u001b[39m num_worker_procs = \u001b[38;5;28mlen\u001b[39m(os.sched_getaffinity(\u001b[32m0\u001b[39m))\n\u001b[32m    138\u001b[39m \u001b[38;5;28;01mwith\u001b[39;00m mp.Pool(num_worker_procs) \u001b[38;5;28;01mas\u001b[39;00m p:\n\u001b[32m    139\u001b[39m     decoders = np.stack(\n\u001b[32m    140\u001b[39m         *[\n\u001b[32m--> \u001b[39m\u001b[32m141\u001b[39m             \u001b[43mp\u001b[49m\u001b[43m.\u001b[49m\u001b[43mstarmap\u001b[49m\u001b[43m(\u001b[49m\n\u001b[32m    142\u001b[39m \u001b[43m                \u001b[49m\u001b[43mfunc\u001b[49m\u001b[43m=\u001b[49m\u001b[43m_regress_neuron\u001b[49m\u001b[43m,\u001b[49m\n\u001b[32m    143\u001b[39m \u001b[43m                \u001b[49m\u001b[43miterable\u001b[49m\u001b[43m=\u001b[49m\u001b[43mtqdm\u001b[49m\u001b[43m.\u001b[49m\u001b[43mtqdm\u001b[49m\u001b[43m(\u001b[49m\n\u001b[32m    144\u001b[39m \u001b[43m                    \u001b[49m\u001b[43m[\u001b[49m\n\u001b[32m    145\u001b[39m \u001b[43m                        \u001b[49m\u001b[43m(\u001b[49m\n\u001b[32m    146\u001b[39m \u001b[43m                            \u001b[49m\u001b[43mactivations\u001b[49m\u001b[43m[\u001b[49m\u001b[43m:\u001b[49m\u001b[43m,\u001b[49m\u001b[43m \u001b[49m\u001b[43midx_neuron\u001b[49m\u001b[43m,\u001b[49m\u001b[43m \u001b[49m\u001b[43m:\u001b[49m\u001b[43m]\u001b[49m\u001b[43m.\u001b[49m\u001b[43mT\u001b[49m\u001b[43m,\u001b[49m\n\u001b[32m    147\u001b[39m \u001b[43m                            \u001b[49m\u001b[43mtarget_output\u001b[49m\u001b[43m,\u001b[49m\n\u001b[32m    148\u001b[39m \u001b[43m                        \u001b[49m\u001b[43m)\u001b[49m\n\u001b[32m    149\u001b[39m \u001b[43m                        \u001b[49m\u001b[38;5;28;43;01mfor\u001b[39;49;00m\u001b[43m \u001b[49m\u001b[43midx_neuron\u001b[49m\u001b[43m \u001b[49m\u001b[38;5;129;43;01min\u001b[39;49;00m\u001b[43m \u001b[49m\u001b[38;5;28;43mrange\u001b[39;49m\u001b[43m(\u001b[49m\u001b[43mact_width\u001b[49m\u001b[43m)\u001b[49m\n\u001b[32m    150\u001b[39m \u001b[43m                    \u001b[49m\u001b[43m]\u001b[49m\u001b[43m,\u001b[49m\n\u001b[32m    151\u001b[39m \u001b[43m                    \u001b[49m\u001b[43mtotal\u001b[49m\u001b[43m=\u001b[49m\u001b[43mact_width\u001b[49m\u001b[43m,\u001b[49m\n\u001b[32m    152\u001b[39m \u001b[43m                    \u001b[49m\u001b[43mdesc\u001b[49m\u001b[43m=\u001b[49m\u001b[33;43m\"\u001b[39;49m\u001b[33;43mComputing decoders\u001b[39;49m\u001b[33;43m\"\u001b[39;49m\u001b[43m,\u001b[49m\n\u001b[32m    153\u001b[39m \u001b[43m                    \u001b[49m\u001b[43mleave\u001b[49m\u001b[43m=\u001b[49m\u001b[38;5;28;43;01mFalse\u001b[39;49;00m\n\u001b[32m    154\u001b[39m \u001b[43m                \u001b[49m\u001b[43m)\u001b[49m\u001b[43m,\u001b[49m\n\u001b[32m    155\u001b[39m \u001b[43m            \u001b[49m\u001b[43m)\u001b[49m\n\u001b[32m    156\u001b[39m         ],\n\u001b[32m    157\u001b[39m         axis=-\u001b[32m1\u001b[39m,\n\u001b[32m    158\u001b[39m     )\n\u001b[32m    160\u001b[39m \u001b[38;5;66;03m# confirm correct shape output\u001b[39;00m\n\u001b[32m    161\u001b[39m dim0, dim1, dim2 = decoders.shape\n",
      "\u001b[36mFile \u001b[39m\u001b[32m/usr/lib/python3.11/multiprocessing/pool.py:375\u001b[39m, in \u001b[36mPool.starmap\u001b[39m\u001b[34m(self, func, iterable, chunksize)\u001b[39m\n\u001b[32m    369\u001b[39m \u001b[38;5;28;01mdef\u001b[39;00m\u001b[38;5;250m \u001b[39m\u001b[34mstarmap\u001b[39m(\u001b[38;5;28mself\u001b[39m, func, iterable, chunksize=\u001b[38;5;28;01mNone\u001b[39;00m):\n\u001b[32m    370\u001b[39m \u001b[38;5;250m    \u001b[39m\u001b[33;03m'''\u001b[39;00m\n\u001b[32m    371\u001b[39m \u001b[33;03m    Like `map()` method but the elements of the `iterable` are expected to\u001b[39;00m\n\u001b[32m    372\u001b[39m \u001b[33;03m    be iterables as well and will be unpacked as arguments. Hence\u001b[39;00m\n\u001b[32m    373\u001b[39m \u001b[33;03m    `func` and (a, b) becomes func(a, b).\u001b[39;00m\n\u001b[32m    374\u001b[39m \u001b[33;03m    '''\u001b[39;00m\n\u001b[32m--> \u001b[39m\u001b[32m375\u001b[39m     \u001b[38;5;28;01mreturn\u001b[39;00m \u001b[38;5;28;43mself\u001b[39;49m\u001b[43m.\u001b[49m\u001b[43m_map_async\u001b[49m\u001b[43m(\u001b[49m\u001b[43mfunc\u001b[49m\u001b[43m,\u001b[49m\u001b[43m \u001b[49m\u001b[43miterable\u001b[49m\u001b[43m,\u001b[49m\u001b[43m \u001b[49m\u001b[43mstarmapstar\u001b[49m\u001b[43m,\u001b[49m\u001b[43m \u001b[49m\u001b[43mchunksize\u001b[49m\u001b[43m)\u001b[49m\u001b[43m.\u001b[49m\u001b[43mget\u001b[49m\u001b[43m(\u001b[49m\u001b[43m)\u001b[49m\n",
      "\u001b[36mFile \u001b[39m\u001b[32m/usr/lib/python3.11/multiprocessing/pool.py:774\u001b[39m, in \u001b[36mApplyResult.get\u001b[39m\u001b[34m(self, timeout)\u001b[39m\n\u001b[32m    772\u001b[39m     \u001b[38;5;28;01mreturn\u001b[39;00m \u001b[38;5;28mself\u001b[39m._value\n\u001b[32m    773\u001b[39m \u001b[38;5;28;01melse\u001b[39;00m:\n\u001b[32m--> \u001b[39m\u001b[32m774\u001b[39m     \u001b[38;5;28;01mraise\u001b[39;00m \u001b[38;5;28mself\u001b[39m._value\n",
      "\u001b[31mLinAlgError\u001b[39m: Incompatible dimensions"
     ]
    }
   ],
   "source": [
    "model.fit(imgs_train[:, :1000], labels_train[:,:1000])"
   ]
  },
  {
   "cell_type": "code",
   "execution_count": null,
   "metadata": {},
   "outputs": [
    {
     "ename": "NameError",
     "evalue": "name 'NDArray' is not defined",
     "output_type": "error",
     "traceback": [
      "\u001b[31m---------------------------------------------------------------------------\u001b[39m",
      "\u001b[31mNameError\u001b[39m                                 Traceback (most recent call last)",
      "\u001b[36mCell\u001b[39m\u001b[36m \u001b[39m\u001b[32mIn[2]\u001b[39m\u001b[32m, line 6\u001b[39m\n\u001b[32m      4\u001b[39m \u001b[38;5;28;01mimport\u001b[39;00m\u001b[38;5;250m \u001b[39m\u001b[34;01mh5py\u001b[39;00m\n\u001b[32m      5\u001b[39m \u001b[38;5;28;01mfrom\u001b[39;00m\u001b[38;5;250m \u001b[39m\u001b[34;01mnonlinear_approximator\u001b[39;00m\u001b[34;01m.\u001b[39;00m\u001b[34;01mmodel\u001b[39;00m\u001b[38;5;250m \u001b[39m\u001b[38;5;28;01mimport\u001b[39;00m NonlinearRegressorModel\n\u001b[32m----> \u001b[39m\u001b[32m6\u001b[39m \u001b[38;5;28;01mdef\u001b[39;00m\u001b[38;5;250m \u001b[39m\u001b[34mpredict\u001b[39m(\u001b[38;5;28mself\u001b[39m, input_x: \u001b[43mNDArray\u001b[49m[np.floating], average: \u001b[38;5;28mbool\u001b[39m=\u001b[38;5;28;01mTrue\u001b[39;00m) -> NDArray[np.floating]:\n\u001b[32m      8\u001b[39m     \u001b[38;5;28;01mif\u001b[39;00m \u001b[38;5;129;01mnot\u001b[39;00m \u001b[38;5;28mself\u001b[39m.config.storage_path: \u001b[38;5;66;03m# in memory mode \u001b[39;00m\n\u001b[32m      9\u001b[39m         \u001b[38;5;28;01mif\u001b[39;00m \u001b[38;5;28mself\u001b[39m.decoders \u001b[38;5;129;01mis\u001b[39;00m \u001b[38;5;28;01mNone\u001b[39;00m:\n",
      "\u001b[31mNameError\u001b[39m: name 'NDArray' is not defined"
     ]
    }
   ],
   "source": [
    "import nonlinear_approximator \n",
    "from functools import partial\n",
    "from nonlinear_approximator.inference import infer\n",
    "import h5py\n",
    "from nonlinear_approximator.model import NonlinearRegressorModel\n",
    "def predict(self, input_x: NDArray[np.floating], average: bool=True) -> NDArray[np.floating]:\n",
    "    \n",
    "    if not self.config.storage_path: # in memory mode \n",
    "        if self.decoders is None:\n",
    "            raise RuntimeError(\"The provided model has not been trained so cannot make a prediction. Call 'fit' first or 'load' first.\")\n",
    "        \n",
    "        outputs = infer(input_x, self.neurons, self.decoders, self.config)\n",
    "        \n",
    "        if average: \n",
    "            return outputs.mean(axis=2).T\n",
    "        else:\n",
    "            return outputs\n",
    "    else: # use persistent storage\n",
    "        self._check_storage_path_configured()\n",
    "        with h5py.File(self.config.storage_path.resolve().absolute(), 'a') as file:\n",
    "            input_dim, num_samples = input_x.shape\n",
    "            # use a recursive average to accumulate outputs from multiple chunks of neurons so we don't load all into memory at once \n",
    "            output_avg = None\n",
    "            count_avg = 0\n",
    "            \n",
    "            for neuron_chunk in file[NonlinearRegressorModel.DECODER_STRPATH].iter_chunks():\n",
    "                print(f\"neuron chunk: {neuron_chunk}; count_avg: {count_avg}\")            \n",
    "                # get neural activations for this batch of data                         \n",
    "                slice_start = neuron_chunk[2].start\n",
    "                slice_end = self.config.width if not hasattr(neuron_chunk[2], 'end') else neuron_chunk[2].end\n",
    "                \n",
    "                if np.any(np.isnan(\n",
    "                    file[NonlinearRegressorModel.DECODER_STRPATH][neuron_chunk]\n",
    "                )):\n",
    "                    raise ValueError(f\"Recorded Decoders for slice {neuron_chunk} contained NaN values: {file[NonlinearRegressorModel.DECODER_STRPATH][neuron_chunk]}\")\n",
    "                \n",
    "                output = infer(\n",
    "                    input_x, \n",
    "                    self.neurons[:, slice_start:slice_end], \n",
    "                    file[NonlinearRegressorModel.DECODER_STRPATH][neuron_chunk], \n",
    "                    self.config\n",
    "                ).mean(axis=2).T\n",
    "                \n",
    "                count = slice_end - slice_start + 1\n",
    "\n",
    "                if count_avg == 0:\n",
    "                    output_avg = output\n",
    "                    count_avg = count\n",
    "                \n",
    "                else:\n",
    "                    output_avg = (output * count + output_avg * count_avg) / (count + count_avg)\n",
    "                    count_avg += count \n",
    "                    \n",
    "            return output_avg.T\n",
    "model.predict = partial(predict, model)\n",
    "probs_train = model.predict(imgs_train[:,:1000])"
   ]
  },
  {
   "cell_type": "code",
   "execution_count": null,
   "metadata": {},
   "outputs": [
    {
     "ename": "NameError",
     "evalue": "name 'probs_train' is not defined",
     "output_type": "error",
     "traceback": [
      "\u001b[31m---------------------------------------------------------------------------\u001b[39m",
      "\u001b[31mNameError\u001b[39m                                 Traceback (most recent call last)",
      "\u001b[36mCell\u001b[39m\u001b[36m \u001b[39m\u001b[32mIn[8]\u001b[39m\u001b[32m, line 1\u001b[39m\n\u001b[32m----> \u001b[39m\u001b[32m1\u001b[39m \u001b[43mprobs_train\u001b[49m\n",
      "\u001b[31mNameError\u001b[39m: name 'probs_train' is not defined"
     ]
    }
   ],
   "source": [
    "probs_train"
   ]
  },
  {
   "cell_type": "code",
   "execution_count": null,
   "metadata": {},
   "outputs": [
    {
     "name": "stdout",
     "output_type": "stream",
     "text": [
      "(1000,)\n"
     ]
    },
    {
     "data": {
      "image/png": "[encoded data removed]",
      "text/plain": [
       "<Figure size 640x480 with 1 Axes>"
      ]
     },
     "metadata": {},
     "output_type": "display_data"
    }
   ],
   "source": [
    "preds_train = probs_train.T.argmax(axis=1)\n",
    "print(preds_train.shape)\n",
    "acc_train = sum(preds_train==labels_train.argmax(axis=0)[:1000]).T / len(preds_train)\n",
    "\n",
    "plt.hist(preds_train, bins=10)\n",
    "plt.hist(labels_train.argmax(axis=0)[:1000], bins=10, alpha=0.3)\n",
    "plt.title(f\"Histogram of model predicted classifications on training data. Accuracy = {100 *acc_train}%\")\n",
    "plt.xlabel(\"Digit\")\n",
    "plt.ylabel(f\"Number of classifciations (N={len(preds_train)})\")\n",
    "plt.show()\n"
   ]
  },
  {
   "cell_type": "code",
   "execution_count": null,
   "metadata": {},
   "outputs": [],
   "source": [
    "probs_test = model.predict(imgs_train[:,:1000]) \n",
    "preds_test = probs_test.T.argmax(axis=0)\n",
    "acc_test = sum(preds_test==labels_test.argmax(axis=0)[:1000]) / len(preds_test)\n",
    "\n",
    "plt.hist(preds_test, bins=10)\n",
    "plt.hist(labels_test.argmax(axis=0)[:1000], bins=10, alpha=0.3)\n",
    "plt.title(f\"Histogram of model predicted classifications on test data. Accuracy = {100 *acc_test}%\")\n",
    "plt.xlabel(\"Digit\")\n",
    "plt.ylabel(f\"Number of classifciations (N={len(preds_test)})\")\n",
    "plt.show()"
   ]
  },
  {
   "cell_type": "code",
   "execution_count": null,
   "metadata": {},
   "outputs": [],
   "source": []
  },
  {
   "cell_type": "code",
   "execution_count": null,
   "metadata": {},
   "outputs": [],
   "source": []
  },
  {
   "cell_type": "code",
   "execution_count": null,
   "metadata": {},
   "outputs": [],
   "source": [
    "xor_thresh = 0.5\n",
    "\n",
    "xors_train_rounded = outputs.mean(axis=2).copy()\n",
    "xors_train_rounded[xors_train_rounded <= xor_thresh] = 0\n",
    "xors_train_rounded[xors_train_rounded > xor_thresh] = 1\n",
    "xor_train_actual = np.array(\n",
    "    [xor(train_samples[:, i]) for i in range(train_samples.shape[1])]\n",
    ")\n",
    "\n",
    "\n",
    "mask_0 = np.isclose(xors_train_rounded, 0).squeeze()\n",
    "mask_1 = np.isclose(xors_train_rounded, 1).squeeze()\n",
    "plt.scatter(\n",
    "    train_samples[0, mask_0],\n",
    "    train_samples[1, mask_0],\n",
    "    c=\"red\",\n",
    "    marker=\"x\",\n",
    "    label=\"XOR = 0\",\n",
    ")\n",
    "plt.scatter(\n",
    "    train_samples[0, mask_1],\n",
    "    train_samples[1, mask_1],\n",
    "    c=\"green\",\n",
    "    marker=\"o\",\n",
    "    label=\"XOR = 1\",\n",
    ")\n",
    "\n",
    "mask_incorrect = (xors_train_rounded != xor_train_actual).squeeze()\n",
    "plt.scatter(\n",
    "    train_samples[0, mask_incorrect],\n",
    "    train_samples[1, mask_incorrect],\n",
    "    marker=\"+\",\n",
    "    c=\"yellow\",\n",
    ")\n",
    "\n",
    "plt.axis(\"equal\")\n",
    "plt.axvline(x=0, c=\"black\")\n",
    "plt.axhline(y=0, c=\"black\")\n",
    "\n",
    "plt.title(\n",
    "    f\"Network Approximation of XOR function  (Applied to Training Data)\\nAccuracy = {100 * (1 - sum(mask_incorrect) / num_samples_train)}%\"\n",
    ")\n",
    "plt.xlabel(\"$x_1$\")\n",
    "plt.ylabel(\"$x_2$\")\n",
    "plt.legend()"
   ]
  },
  {
   "cell_type": "markdown",
   "metadata": {},
   "source": [
    "\n",
    "# Test XOR Approximation"
   ]
  },
  {
   "cell_type": "code",
   "execution_count": null,
   "metadata": {},
   "outputs": [],
   "source": [
    "outputs_test = infer(test_samples, neurons, decoders, config)\n",
    "#  (D x S) x (D x Y).T @ (D x S) ==> Y x\n",
    "plt.hist(outputs_test.mean(axis=2).T, 20, density=True)\n",
    "plt.title(f\"Test Eval Output Probability Histogram N={test_samples.shape[1]}\")\n",
    "plt.xlabel(\"P(XOR Evals to True)\")\n",
    "plt.show()"
   ]
  },
  {
   "cell_type": "code",
   "execution_count": null,
   "metadata": {},
   "outputs": [],
   "source": [
    "xor_thresh = 0.5\n",
    "\n",
    "xors_test_rounded = outputs_test.mean(axis=2).copy()\n",
    "xors_test_rounded[xors_test_rounded <= xor_thresh] = 0\n",
    "xors_test_rounded[xors_test_rounded > xor_thresh] = 1\n",
    "xors_test_actual = np.array(\n",
    "    [xor(test_samples[:, i]) for i in range(test_samples.shape[1])]\n",
    ")\n",
    "\n",
    "\n",
    "mask_0 = np.isclose(xors_test_rounded, 0).squeeze()\n",
    "mask_1 = np.isclose(xors_test_rounded, 1).squeeze()\n",
    "plt.scatter(\n",
    "    test_samples[0, mask_0],\n",
    "    test_samples[1, mask_0],\n",
    "    c=\"red\",\n",
    "    marker=\"x\",\n",
    "    label=\"XOR = 0\",\n",
    ")\n",
    "plt.scatter(\n",
    "    test_samples[0, mask_1],\n",
    "    test_samples[1, mask_1],\n",
    "    c=\"green\",\n",
    "    marker=\"o\",\n",
    "    label=\"XOR = 1\",\n",
    ")\n",
    "\n",
    "mask_incorrect = (xors_test_rounded != xors_test_actual).squeeze()\n",
    "plt.scatter(\n",
    "    test_samples[0, mask_incorrect],\n",
    "    test_samples[1, mask_incorrect],\n",
    "    marker=\"+\",\n",
    "    c=\"yellow\",\n",
    ")\n",
    "\n",
    "plt.axis(\"equal\")\n",
    "plt.axvline(x=0, c=\"black\")\n",
    "plt.axhline(y=0, c=\"black\")\n",
    "\n",
    "plt.title(\n",
    "    f\"Network Approximation of XOR function  (Applied to Test Data)\\nAccuracy = {100 * (1 - sum(mask_incorrect) / num_samples_train)}%\"\n",
    ")\n",
    "plt.xlabel(\"$x_1$\")\n",
    "plt.ylabel(\"$x_2$\")\n",
    "plt.legend()"
   ]
  }
 ],
 "metadata": {
  "kernelspec": {
   "display_name": ".venv",
   "language": "python",
   "name": "python3"
  },
  "language_info": {
   "codemirror_mode": {
    "name": "ipython",
    "version": 3
   },
   "file_extension": ".py",
   "mimetype": "text/x-python",
   "name": "python",
   "nbconvert_exporter": "python",
   "pygments_lexer": "ipython3",
   "version": "3.11.0rc1"
  }
 },
 "nbformat": 4,
 "nbformat_minor": 2
}
