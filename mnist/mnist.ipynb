{
 "cells": [
  {
   "cell_type": "markdown",
   "metadata": {},
   "source": [
    "Scratch Jupyter Noteboook"
   ]
  },
  {
   "cell_type": "code",
   "execution_count": 1,
   "metadata": {},
   "outputs": [],
   "source": [
    "import numpy as np\n",
    "from numpy.typing import NDArray\n",
    "import matplotlib.pyplot as plt\n",
    "import nonlinear_approximator as na\n",
    "from importlib import reload\n",
    "import torch\n",
    "import torchvision\n",
    "import PIL\n",
    "%matplotlib inline\n",
    "from dask.distributed import Client, LocalCluster\n",
    "import dask\n",
    "import dask.array as da"
   ]
  },
  {
   "cell_type": "markdown",
   "metadata": {},
   "source": [
    "Dask Client for Distributed Computation "
   ]
  },
  {
   "cell_type": "markdown",
   "metadata": {},
   "source": [
    "# Load and Plot MNIST Dataset "
   ]
  },
  {
   "cell_type": "code",
   "execution_count": 2,
   "metadata": {},
   "outputs": [],
   "source": [
    "def one_hot_ten(int_label: torch.Tensor) -> NDArray[np.floating]:\n",
    "    oh = np.zeros((10,))\n",
    "    oh[int_label] = 1\n",
    "    return oh\n",
    "\n",
    "def to_numpy_arr(img: PIL.Image) -> NDArray[np.floating]:\n",
    "    # rescale 255 to +/- 1 \n",
    "    arr = np.asarray(img).flatten()\n",
    "    arr = arr / 255 # 0 --> 1\n",
    "    arr = arr - .5  # -.5 --> .5\n",
    "    arr = 2 * arr   # -1 --> 1\n",
    "    return arr\n",
    "    \n",
    "    \n"
   ]
  },
  {
   "cell_type": "code",
   "execution_count": 3,
   "metadata": {},
   "outputs": [],
   "source": [
    "train_data = torchvision.datasets.MNIST(root='./data', download=True, train=True, transform=to_numpy_arr, target_transform=one_hot_ten)\n",
    "test_data = torchvision.datasets.MNIST(root='./data', download=True, train=False, transform=to_numpy_arr, target_transform=one_hot_ten)"
   ]
  },
  {
   "cell_type": "code",
   "execution_count": 4,
   "metadata": {},
   "outputs": [
    {
     "data": {
      "image/png": "[encoded data removed]",
      "text/plain": [
       "<Figure size 750x400 with 10 Axes>"
      ]
     },
     "metadata": {},
     "output_type": "display_data"
    }
   ],
   "source": [
    "num_rows = 2\n",
    "num_cols = 5\n",
    "\n",
    "fig, axes = plt.subplots(num_rows, num_cols, figsize=(1.5*num_cols,2*num_rows))\n",
    "for i in range(num_rows*num_cols):\n",
    "    ax = axes[i//num_cols, i%num_cols]\n",
    "    ax.imshow(train_data[i][0].reshape((28, 28)), cmap='gray')\n",
    "    ax.set_title('Label: {}'.format(np.argmax(train_data[i][1])))\n",
    "plt.tight_layout()\n",
    "plt.show()"
   ]
  },
  {
   "cell_type": "markdown",
   "metadata": {},
   "source": [
    "# Parameters"
   ]
  },
  {
   "cell_type": "code",
   "execution_count": 5,
   "metadata": {},
   "outputs": [],
   "source": [
    "reload(na)\n",
    "reload(na.model)\n",
    "reload(na.activations)\n",
    "reload(na.params)\n",
    "reload(na.training)\n",
    "\n",
    "config = na.params.RegressionParams(\n",
    "    width=1000,\n",
    "    depth=50,\n",
    "    input_dimension=len(train_data[0][0]),\n",
    "    transform_type=na.activations.TransformType.TENT,\n",
    "    transform_params=na.params.TentParams(mu=1.99),\n",
    "    output_dimension=len(train_data[0][1]),\n",
    "    batch_size=1000,\n",
    ")\n"
   ]
  },
  {
   "cell_type": "markdown",
   "metadata": {},
   "source": [
    "# Instantiate Model"
   ]
  },
  {
   "cell_type": "code",
   "execution_count": 6,
   "metadata": {},
   "outputs": [
    {
     "name": "stderr",
     "output_type": "stream",
     "text": [
      "/home/fritz/untitled/.venv/lib/python3.11/site-packages/distributed/client.py:3363: UserWarning: Sending large graph of size 358.89 MiB.\n",
      "This may cause some slowdown.\n",
      "Consider loading the data with Dask directly\n",
      " or using futures or delayed objects to embed the data into the graph without repetition.\n",
      "See also https://docs.dask.org/en/stable/best-practices.html#load-data-with-dask for more information.\n",
      "  warnings.warn(\n"
     ]
    },
    {
     "name": "stdout",
     "output_type": "stream",
     "text": [
      "Loaded training data images with shape (60000, 784), and labels with shape (60000, 10)\n",
      "Loaded test data images with shape (10000, 784), and labels with shape (10000, 10)\n"
     ]
    },
    {
     "name": "stderr",
     "output_type": "stream",
     "text": [
      "/home/fritz/untitled/.venv/lib/python3.11/site-packages/distributed/client.py:3363: UserWarning: Sending large graph of size 59.82 MiB.\n",
      "This may cause some slowdown.\n",
      "Consider loading the data with Dask directly\n",
      " or using futures or delayed objects to embed the data into the graph without repetition.\n",
      "See also https://docs.dask.org/en/stable/best-practices.html#load-data-with-dask for more information.\n",
      "  warnings.warn(\n"
     ]
    },
    {
     "name": "stderr",
     "output_type": "stream",
     "text": [
      "2025-07-01 12:15:04,585 - distributed.client - ERROR - \n",
      "Traceback (most recent call last):\n",
      "  File \"/home/fritz/untitled/.venv/lib/python3.11/site-packages/tornado/iostream.py\", line 861, in _read_to_buffer\n",
      "    bytes_read = self.read_from_fd(buf)\n",
      "                 ^^^^^^^^^^^^^^^^^^^^^^\n",
      "  File \"/home/fritz/untitled/.venv/lib/python3.11/site-packages/tornado/iostream.py\", line 1116, in read_from_fd\n",
      "    return self.socket.recv_into(buf, len(buf))\n",
      "           ^^^^^^^^^^^^^^^^^^^^^^^^^^^^^^^^^^^^\n",
      "TimeoutError: [Errno 110] Connection timed out\n",
      "\n",
      "The above exception was the direct cause of the following exception:\n",
      "\n",
      "Traceback (most recent call last):\n",
      "  File \"/home/fritz/untitled/.venv/lib/python3.11/site-packages/distributed/client.py\", line 1751, in _handle_report\n",
      "    msgs = await self.scheduler_comm.comm.read()\n",
      "           ^^^^^^^^^^^^^^^^^^^^^^^^^^^^^^^^^^^^^\n",
      "  File \"/home/fritz/untitled/.venv/lib/python3.11/site-packages/distributed/comm/tcp.py\", line 237, in read\n",
      "    convert_stream_closed_error(self, e)\n",
      "  File \"/home/fritz/untitled/.venv/lib/python3.11/site-packages/distributed/comm/tcp.py\", line 143, in convert_stream_closed_error\n",
      "    raise CommClosedError(f\"in {obj}: {exc.__class__.__name__}: {exc}\") from exc\n",
      "distributed.comm.core.CommClosedError: in <TCP (closed) Client->Scheduler local=tcp://127.0.0.1:33398 remote=tcp://127.0.0.1:40867>: TimeoutError: [Errno 110] Connection timed out\n",
      "\n",
      "During handling of the above exception, another exception occurred:\n",
      "\n",
      "Traceback (most recent call last):\n",
      "  File \"/home/fritz/untitled/.venv/lib/python3.11/site-packages/distributed/utils.py\", line 818, in wrapper\n",
      "    return await func(*args, **kwargs)\n",
      "           ^^^^^^^^^^^^^^^^^^^^^^^^^^^\n",
      "  File \"/home/fritz/untitled/.venv/lib/python3.11/site-packages/distributed/client.py\", line 1519, in _reconnect\n",
      "    await self._ensure_connected(timeout=timeout)\n",
      "  File \"/home/fritz/untitled/.venv/lib/python3.11/site-packages/distributed/client.py\", line 1576, in _ensure_connected\n",
      "    assert len(msg) == 1\n",
      "           ^^^^^^^^^^^^^\n",
      "AssertionError\n",
      "2025-07-01 12:15:04,614 - distributed.client - ERROR - \n",
      "Traceback (most recent call last):\n",
      "  File \"/home/fritz/untitled/.venv/lib/python3.11/site-packages/tornado/iostream.py\", line 861, in _read_to_buffer\n",
      "    bytes_read = self.read_from_fd(buf)\n",
      "                 ^^^^^^^^^^^^^^^^^^^^^^\n",
      "  File \"/home/fritz/untitled/.venv/lib/python3.11/site-packages/tornado/iostream.py\", line 1116, in read_from_fd\n",
      "    return self.socket.recv_into(buf, len(buf))\n",
      "           ^^^^^^^^^^^^^^^^^^^^^^^^^^^^^^^^^^^^\n",
      "TimeoutError: [Errno 110] Connection timed out\n",
      "\n",
      "The above exception was the direct cause of the following exception:\n",
      "\n",
      "Traceback (most recent call last):\n",
      "  File \"/home/fritz/untitled/.venv/lib/python3.11/site-packages/distributed/client.py\", line 1751, in _handle_report\n",
      "    msgs = await self.scheduler_comm.comm.read()\n",
      "           ^^^^^^^^^^^^^^^^^^^^^^^^^^^^^^^^^^^^^\n",
      "  File \"/home/fritz/untitled/.venv/lib/python3.11/site-packages/distributed/comm/tcp.py\", line 237, in read\n",
      "    convert_stream_closed_error(self, e)\n",
      "  File \"/home/fritz/untitled/.venv/lib/python3.11/site-packages/distributed/comm/tcp.py\", line 143, in convert_stream_closed_error\n",
      "    raise CommClosedError(f\"in {obj}: {exc.__class__.__name__}: {exc}\") from exc\n",
      "distributed.comm.core.CommClosedError: in <TCP (closed) Client->Scheduler local=tcp://127.0.0.1:33398 remote=tcp://127.0.0.1:40867>: TimeoutError: [Errno 110] Connection timed out\n",
      "\n",
      "During handling of the above exception, another exception occurred:\n",
      "\n",
      "Traceback (most recent call last):\n",
      "  File \"/home/fritz/untitled/.venv/lib/python3.11/site-packages/distributed/utils.py\", line 818, in wrapper\n",
      "    return await func(*args, **kwargs)\n",
      "           ^^^^^^^^^^^^^^^^^^^^^^^^^^^\n",
      "  File \"/home/fritz/untitled/.venv/lib/python3.11/site-packages/distributed/client.py\", line 1767, in _handle_report\n",
      "    await self._reconnect()\n",
      "  File \"/home/fritz/untitled/.venv/lib/python3.11/site-packages/distributed/utils.py\", line 818, in wrapper\n",
      "    return await func(*args, **kwargs)\n",
      "           ^^^^^^^^^^^^^^^^^^^^^^^^^^^\n",
      "  File \"/home/fritz/untitled/.venv/lib/python3.11/site-packages/distributed/client.py\", line 1519, in _reconnect\n",
      "    await self._ensure_connected(timeout=timeout)\n",
      "  File \"/home/fritz/untitled/.venv/lib/python3.11/site-packages/distributed/client.py\", line 1576, in _ensure_connected\n",
      "    assert len(msg) == 1\n",
      "           ^^^^^^^^^^^^^\n",
      "AssertionError\n",
      "2025-07-01 12:15:07,724 - distributed.core - ERROR - Exception while handling op register-client\n",
      "Traceback (most recent call last):\n",
      "  File \"/home/fritz/untitled/.venv/lib/python3.11/site-packages/distributed/core.py\", line 834, in _handle_comm\n",
      "    result = await result\n",
      "             ^^^^^^^^^^^^\n",
      "  File \"/home/fritz/untitled/.venv/lib/python3.11/site-packages/distributed/scheduler.py\", line 5994, in add_client\n",
      "    del self.client_comms[client]\n",
      "        ~~~~~~~~~~~~~~~~~^^^^^^^^\n",
      "KeyError: 'Client-48aab213-5696-11f0-aa03-7d2c01d17266'\n",
      "Task exception was never retrieved\n",
      "future: <Task finished name='Task-81' coro=<Server._handle_comm() done, defined at /home/fritz/untitled/.venv/lib/python3.11/site-packages/distributed/core.py:740> exception=KeyError('Client-48aab213-5696-11f0-aa03-7d2c01d17266')>\n",
      "Traceback (most recent call last):\n",
      "  File \"/home/fritz/untitled/.venv/lib/python3.11/site-packages/distributed/core.py\", line 834, in _handle_comm\n",
      "    result = await result\n",
      "             ^^^^^^^^^^^^\n",
      "  File \"/home/fritz/untitled/.venv/lib/python3.11/site-packages/distributed/scheduler.py\", line 5994, in add_client\n",
      "    del self.client_comms[client]\n",
      "        ~~~~~~~~~~~~~~~~~^^^^^^^^\n",
      "KeyError: 'Client-48aab213-5696-11f0-aa03-7d2c01d17266'\n"
     ]
    }
   ],
   "source": [
    "model = na.model.NonlinearRegressorModel(config)\n",
    "imgs_train, labels_train = zip(*train_data)\n",
    "imgs_train = da.array(imgs_train).persist()\n",
    "labels_train = da.array(labels_train).persist()\n",
    "\n",
    "imgs_test, labels_test = zip(*test_data)\n",
    "imgs_test = da.array(imgs_test).persist()\n",
    "labels_test = da.array(labels_test).persist()\n",
    "\n",
    "print(f\"Loaded training data images with shape {imgs_train.shape}, and labels with shape {labels_train.shape}\")\n",
    "print(f\"Loaded test data images with shape {imgs_test.shape}, and labels with shape {labels_test.shape}\")\n"
   ]
  },
  {
   "cell_type": "markdown",
   "metadata": {},
   "source": [
    "# Train MNIST Classifier"
   ]
  },
  {
   "cell_type": "code",
   "execution_count": 7,
   "metadata": {},
   "outputs": [
    {
     "ename": "FutureCancelledError",
     "evalue": "_regress_neuron-799fc66a439177c4e26d10b0703587a9 cancelled for reason: scheduler-connection-lost.\nClient lost the connection to the scheduler. Please check your connection and re-run your work.",
     "output_type": "error",
     "traceback": [
      "\u001b[31m---------------------------------------------------------------------------\u001b[39m",
      "\u001b[31mFutureCancelledError\u001b[39m                      Traceback (most recent call last)",
      "\u001b[36mCell\u001b[39m\u001b[36m \u001b[39m\u001b[32mIn[7]\u001b[39m\u001b[32m, line 1\u001b[39m\n\u001b[32m----> \u001b[39m\u001b[32m1\u001b[39m \u001b[43mmodel\u001b[49m\u001b[43m.\u001b[49m\u001b[43mfit\u001b[49m\u001b[43m(\u001b[49m\u001b[43mimgs_train\u001b[49m\u001b[43m[\u001b[49m\u001b[43m:\u001b[49m\u001b[32;43m1000\u001b[39;49m\u001b[43m,\u001b[49m\u001b[43m \u001b[49m\u001b[43m:\u001b[49m\u001b[43m]\u001b[49m\u001b[43m,\u001b[49m\u001b[43m \u001b[49m\u001b[43mlabels_train\u001b[49m\u001b[43m[\u001b[49m\u001b[43m:\u001b[49m\u001b[32;43m1000\u001b[39;49m\u001b[43m,\u001b[49m\u001b[43m \u001b[49m\u001b[43m:\u001b[49m\u001b[43m]\u001b[49m\u001b[43m)\u001b[49m\n",
      "\u001b[36mFile \u001b[39m\u001b[32m~/untitled/src/nonlinear_approximator/model.py:79\u001b[39m, in \u001b[36mNonlinearRegressorModel.fit\u001b[39m\u001b[34m(self, input_x, output_y)\u001b[39m\n\u001b[32m     71\u001b[39m     \u001b[38;5;28;01mraise\u001b[39;00m \u001b[38;5;167;01mValueError\u001b[39;00m(\u001b[33mf\u001b[39m\u001b[33m\"\u001b[39m\u001b[33mMismatch between sample dimension (\u001b[39m\u001b[38;5;132;01m{\u001b[39;00mSAMPLE_DIM\u001b[38;5;132;01m}\u001b[39;00m\u001b[33m) of input data (\u001b[39m\u001b[38;5;132;01m{\u001b[39;00minput_x.shape[SAMPLE_DIM]\u001b[38;5;132;01m}\u001b[39;00m\u001b[33m, and target output (\u001b[39m\u001b[38;5;132;01m{\u001b[39;00moutput_y.shape[SAMPLE_DIM]\u001b[38;5;132;01m}\u001b[39;00m\u001b[33m))\u001b[39m\u001b[33m\"\u001b[39m)\n\u001b[32m     73\u001b[39m activations_train = compute_activations(\n\u001b[32m     74\u001b[39m     \u001b[38;5;28mself\u001b[39m._neurons,\n\u001b[32m     75\u001b[39m     input_x=input_x,\n\u001b[32m     76\u001b[39m     config=\u001b[38;5;28mself\u001b[39m.config\n\u001b[32m     77\u001b[39m )  \n\u001b[32m---> \u001b[39m\u001b[32m79\u001b[39m \u001b[38;5;28mself\u001b[39m.decoders = \u001b[43mcompute_decoders\u001b[49m\u001b[43m(\u001b[49m\u001b[38;5;28;43mself\u001b[39;49m\u001b[43m,\u001b[49m\u001b[43m \u001b[49m\u001b[43mactivations_train\u001b[49m\u001b[43m,\u001b[49m\u001b[43m \u001b[49m\u001b[43moutput_y\u001b[49m\u001b[43m,\u001b[49m\u001b[43m \u001b[49m\u001b[38;5;28;43mself\u001b[39;49m\u001b[43m.\u001b[49m\u001b[43mconfig\u001b[49m\u001b[43m)\u001b[49m\n",
      "\u001b[36mFile \u001b[39m\u001b[32m~/untitled/src/nonlinear_approximator/training.py:117\u001b[39m, in \u001b[36mcompute_decoders\u001b[39m\u001b[34m(self, activations, target_output, config)\u001b[39m\n\u001b[32m    109\u001b[39m     neuron_decoder_task = \u001b[38;5;28mself\u001b[39m._dask_client.submit(\n\u001b[32m    110\u001b[39m         _regress_neuron,\n\u001b[32m    111\u001b[39m         activations[:, :, idx_neuron],\n\u001b[32m    112\u001b[39m         target_output\n\u001b[32m    113\u001b[39m     )\n\u001b[32m    114\u001b[39m     awaits.append(neuron_decoder_task)\n\u001b[32m    116\u001b[39m \u001b[38;5;28;01mfor\u001b[39;00m res \u001b[38;5;129;01min\u001b[39;00m tqdm.tqdm(\n\u001b[32m--> \u001b[39m\u001b[32m117\u001b[39m     iterable=\u001b[38;5;28;43mself\u001b[39;49m\u001b[43m.\u001b[49m\u001b[43m_dask_client\u001b[49m\u001b[43m.\u001b[49m\u001b[43mgather\u001b[49m\u001b[43m(\u001b[49m\u001b[43mawaits\u001b[49m\u001b[43m)\u001b[49m,\n\u001b[32m    118\u001b[39m     total=\u001b[38;5;28mlen\u001b[39m(awaits),\n\u001b[32m    119\u001b[39m     desc=\u001b[33m'\u001b[39m\u001b[33mComputing Decoders ...\u001b[39m\u001b[33m'\u001b[39m\n\u001b[32m    120\u001b[39m     ): \u001b[38;5;66;03m# type: ignore\u001b[39;00m\n\u001b[32m    121\u001b[39m     results.append(res)\n\u001b[32m    123\u001b[39m decoders = da.stack(\n\u001b[32m    124\u001b[39m     results,\n\u001b[32m    125\u001b[39m     axis=-\u001b[32m1\u001b[39m\n\u001b[32m    126\u001b[39m     )\n",
      "\u001b[36mFile \u001b[39m\u001b[32m~/untitled/.venv/lib/python3.11/site-packages/distributed/client.py:2548\u001b[39m, in \u001b[36mClient.gather\u001b[39m\u001b[34m(self, futures, errors, direct, asynchronous)\u001b[39m\n\u001b[32m   2545\u001b[39m     local_worker = \u001b[38;5;28;01mNone\u001b[39;00m\n\u001b[32m   2547\u001b[39m \u001b[38;5;28;01mwith\u001b[39;00m shorten_traceback():\n\u001b[32m-> \u001b[39m\u001b[32m2548\u001b[39m     \u001b[38;5;28;01mreturn\u001b[39;00m \u001b[38;5;28;43mself\u001b[39;49m\u001b[43m.\u001b[49m\u001b[43msync\u001b[49m\u001b[43m(\u001b[49m\n\u001b[32m   2549\u001b[39m \u001b[43m        \u001b[49m\u001b[38;5;28;43mself\u001b[39;49m\u001b[43m.\u001b[49m\u001b[43m_gather\u001b[49m\u001b[43m,\u001b[49m\n\u001b[32m   2550\u001b[39m \u001b[43m        \u001b[49m\u001b[43mfutures\u001b[49m\u001b[43m,\u001b[49m\n\u001b[32m   2551\u001b[39m \u001b[43m        \u001b[49m\u001b[43merrors\u001b[49m\u001b[43m=\u001b[49m\u001b[43merrors\u001b[49m\u001b[43m,\u001b[49m\n\u001b[32m   2552\u001b[39m \u001b[43m        \u001b[49m\u001b[43mdirect\u001b[49m\u001b[43m=\u001b[49m\u001b[43mdirect\u001b[49m\u001b[43m,\u001b[49m\n\u001b[32m   2553\u001b[39m \u001b[43m        \u001b[49m\u001b[43mlocal_worker\u001b[49m\u001b[43m=\u001b[49m\u001b[43mlocal_worker\u001b[49m\u001b[43m,\u001b[49m\n\u001b[32m   2554\u001b[39m \u001b[43m        \u001b[49m\u001b[43masynchronous\u001b[49m\u001b[43m=\u001b[49m\u001b[43masynchronous\u001b[49m\u001b[43m,\u001b[49m\n\u001b[32m   2555\u001b[39m \u001b[43m    \u001b[49m\u001b[43m)\u001b[49m\n",
      "\u001b[36mFile \u001b[39m\u001b[32m~/untitled/.venv/lib/python3.11/site-packages/distributed/client.py:2409\u001b[39m, in \u001b[36mClient._gather\u001b[39m\u001b[34m(self, futures, errors, direct, local_worker)\u001b[39m\n\u001b[32m   2407\u001b[39m     exception = st.exception\n\u001b[32m   2408\u001b[39m     traceback = st.traceback\n\u001b[32m-> \u001b[39m\u001b[32m2409\u001b[39m     \u001b[38;5;28;01mraise\u001b[39;00m exception.with_traceback(traceback)\n\u001b[32m   2410\u001b[39m \u001b[38;5;28;01mif\u001b[39;00m errors == \u001b[33m\"\u001b[39m\u001b[33mskip\u001b[39m\u001b[33m\"\u001b[39m:\n\u001b[32m   2411\u001b[39m     bad_keys.add(key)\n",
      "\u001b[31mFutureCancelledError\u001b[39m: _regress_neuron-799fc66a439177c4e26d10b0703587a9 cancelled for reason: scheduler-connection-lost.\nClient lost the connection to the scheduler. Please check your connection and re-run your work."
     ]
    }
   ],
   "source": [
    "model.fit(imgs_train[:1000, :], labels_train[:1000, :])"
   ]
  },
  {
   "cell_type": "code",
   "execution_count": null,
   "metadata": {},
   "outputs": [
    {
     "name": "stderr",
     "output_type": "stream",
     "text": [
      "100%|██████████| 100/100 [00:00<00:00, 136.23it/s]\n"
     ]
    }
   ],
   "source": [
    "probs_train = model.predict(imgs_train[:1000, :])\n",
    "preds_train = probs_train.argmax(axis=0)\n",
    "acc_train = (sum(\n",
    "    preds_train == (labels_train.argmax(axis=1)[:1000])\n",
    "    ) / len(preds_train)).compute()"
   ]
  },
  {
   "cell_type": "code",
   "execution_count": null,
   "metadata": {},
   "outputs": [
    {
     "data": {
      "image/png": "[encoded data removed]",
      "text/plain": [
       "<Figure size 640x480 with 1 Axes>"
      ]
     },
     "metadata": {},
     "output_type": "display_data"
    }
   ],
   "source": [
    "plt.hist(preds_train, bins=10)\n",
    "plt.hist(labels_train.argmax(axis=1)[:1000].compute(), bins=10, alpha=0.3)\n",
    "plt.title(f\"Histogram of model predicted classifications on training data. Accuracy = {100 *acc_train}%\")\n",
    "plt.xlabel(\"Digit\")\n",
    "plt.ylabel(f\"Number of classifciations (N={len(preds_train)})\")\n",
    "plt.show()"
   ]
  },
  {
   "cell_type": "code",
   "execution_count": null,
   "metadata": {},
   "outputs": [],
   "source": [
    "probs_test = model.predict(imgs_train[:,:1000]) \n",
    "preds_test = probs_test.T.argmax(axis=0)\n",
    "acc_test = sum(preds_test==labels_test.argmax(axis=0)[:1000]) / len(preds_test)\n",
    "\n",
    "plt.hist(preds_test, bins=10)\n",
    "plt.hist(labels_test.argmax(axis=0)[:1000], bins=10, alpha=0.3)\n",
    "plt.title(f\"Histogram of model predicted classifications on test data. Accuracy = {100 *acc_test}%\")\n",
    "plt.xlabel(\"Digit\")\n",
    "plt.ylabel(f\"Number of classifciations (N={len(preds_test)})\")\n",
    "plt.show()"
   ]
  }
 ],
 "metadata": {
  "kernelspec": {
   "display_name": ".venv",
   "language": "python",
   "name": "python3"
  },
  "language_info": {
   "codemirror_mode": {
    "name": "ipython",
    "version": 3
   },
   "file_extension": ".py",
   "mimetype": "text/x-python",
   "name": "python",
   "nbconvert_exporter": "python",
   "pygments_lexer": "ipython3",
   "version": "3.11.11"
  }
 },
 "nbformat": 4,
 "nbformat_minor": 2
}
