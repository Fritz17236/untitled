{
 "cells": [
  {
   "cell_type": "code",
   "execution_count": 1,
   "id": "57b875fe",
   "metadata": {},
   "outputs": [],
   "source": [
    "import numpy as np\n",
    "from numpy.typing import NDArray\n",
    "import matplotlib.pyplot as plt\n",
    "import nonlinear_approximator as na\n",
    "from importlib import reload\n",
    "import torch\n",
    "import torchvision\n",
    "import PIL\n",
    "%matplotlib inline\n",
    "from dask.distributed import Client, LocalCluster\n",
    "import dask.delayed\n",
    "import dask.array as da\n",
    "from dask.diagnostics import ProgressBar"
   ]
  },
  {
   "cell_type": "code",
   "execution_count": 37,
   "id": "7dafcf6a",
   "metadata": {},
   "outputs": [
    {
     "name": "stdout",
     "output_type": "stream",
     "text": [
      "Loaded training data images with shape (60000, 784), and labels with shape (60000, 10)\n",
      "Loaded test data images with shape (10000, 784), and labels with shape (10000, 10)\n"
     ]
    }
   ],
   "source": [
    "import dask.delayed\n",
    "import dask.delayed\n",
    "\n",
    "\n",
    "def one_hot_ten(int_label: torch.Tensor) -> NDArray[np.floating]:\n",
    "    oh = np.zeros((10,))\n",
    "    oh[int_label] = 1\n",
    "    return oh\n",
    "\n",
    "def to_numpy_arr(img: PIL.Image) -> NDArray[np.floating]:\n",
    "    # rescale 255 to +/- 1 \n",
    "    arr = np.asarray(img).flatten()\n",
    "    arr = arr / 255 # 0 --> 1\n",
    "    arr = arr - .5  # -.5 --> .5\n",
    "    arr = 2 * arr   # -1 --> 1\n",
    "    return arr\n",
    "\n",
    "def load_data(): \n",
    "    train_data = torchvision.datasets.MNIST(root='./data', download=True, train=True, transform=to_numpy_arr, target_transform=one_hot_ten)\n",
    "    test_data = torchvision.datasets.MNIST(root='./data', download=True, train=False, transform=to_numpy_arr, target_transform=one_hot_ten)\n",
    "\n",
    "    imgs_train, labels_train = zip(*train_data)\n",
    "    imgs_train = da.array(imgs_train)\n",
    "    labels_train = da.array(labels_train)\n",
    "\n",
    "    imgs_test, labels_test = zip(*test_data)\n",
    "    imgs_test = da.array(imgs_test)\n",
    "    labels_test = da.array(labels_test)\n",
    "    \n",
    "    return (\n",
    "        imgs_train, labels_train,\n",
    "        imgs_test, labels_test\n",
    "    )\n",
    "\n",
    "\n",
    "imgs_train, labels_train, imgs_test, labels_test = load_data()\n",
    "print(f\"Loaded training data images with shape {imgs_train.shape}, and labels with shape {labels_train.shape}\")\n",
    "print(f\"Loaded test data images with shape {imgs_test.shape}, and labels with shape {labels_test.shape}\")\n",
    "\n",
    "\n",
    "\n",
    "def tent(x: NDArray[np.floating], params: na.params.TentParams) -> NDArray[np.floating]:\n",
    "    \"\"\"Apply the Tent Map either to a scalar or a vectorized array.\n",
    "    https://en.wikipedia.org/wiki/Tent_map\n",
    "\n",
    "    Arguments:\n",
    "        x (float | NDArray[np.floating]): Input to apply transformation to, either a scalar, or applied elementwise to a vector\n",
    "        params (TentParams): Configuration Containing:\n",
    "            mu (float): The slope of the tent / triangle, typically between 0 and 2, with 2 being the upper boundary of bounded Chaotic behavior.\n",
    "    Returns:\n",
    "        float | NDArray[np.floating]: The mapped value or array, matching the type of data input.\n",
    "    \"\"\"\n",
    "    return da.where(\n",
    "        x > 0,\n",
    "         params.mu * (1 - x),\n",
    "         params.mu * (1 + x),\n",
    "    )\n",
    "\n",
    "\n",
    "def get_neurons(config): \n",
    "    neurons = da.random.normal(loc=0, scale=1, size=(config.input_dimension, config.width))\n",
    "    neurons = neurons / da.linalg.norm(neurons, axis=0)\n",
    "    return neurons"
   ]
  },
  {
   "cell_type": "code",
   "execution_count": 40,
   "id": "9657adce",
   "metadata": {},
   "outputs": [
    {
     "data": {
      "text/html": [
       "<table>\n",
       "    <tr>\n",
       "        <td>\n",
       "            <table style=\"border-collapse: collapse;\">\n",
       "                <thead>\n",
       "                    <tr>\n",
       "                        <td> </td>\n",
       "                        <th> Array </th>\n",
       "                        <th> Chunk </th>\n",
       "                    </tr>\n",
       "                </thead>\n",
       "                <tbody>\n",
       "                    \n",
       "                    <tr>\n",
       "                        <th> Bytes </th>\n",
       "                        <td> 2.24 GiB </td>\n",
       "                        <td> 16.33 MiB </td>\n",
       "                    </tr>\n",
       "                    \n",
       "                    <tr>\n",
       "                        <th> Shape </th>\n",
       "                        <td> (60000, 5000) </td>\n",
       "                        <td> (21399, 100) </td>\n",
       "                    </tr>\n",
       "                    <tr>\n",
       "                        <th> Dask graph </th>\n",
       "                        <td colspan=\"2\"> 150 chunks in 305 graph layers </td>\n",
       "                    </tr>\n",
       "                    <tr>\n",
       "                        <th> Data type </th>\n",
       "                        <td colspan=\"2\"> float64 numpy.ndarray </td>\n",
       "                    </tr>\n",
       "                </tbody>\n",
       "            </table>\n",
       "        </td>\n",
       "        <td>\n",
       "        <svg width=\"87\" height=\"170\" style=\"stroke:rgb(0,0,0);stroke-width:1\" >\n",
       "\n",
       "  <!-- Horizontal lines -->\n",
       "  <line x1=\"0\" y1=\"0\" x2=\"37\" y2=\"0\" style=\"stroke-width:2\" />\n",
       "  <line x1=\"0\" y1=\"42\" x2=\"37\" y2=\"42\" />\n",
       "  <line x1=\"0\" y1=\"85\" x2=\"37\" y2=\"85\" />\n",
       "  <line x1=\"0\" y1=\"120\" x2=\"37\" y2=\"120\" style=\"stroke-width:2\" />\n",
       "\n",
       "  <!-- Vertical lines -->\n",
       "  <line x1=\"0\" y1=\"0\" x2=\"0\" y2=\"120\" style=\"stroke-width:2\" />\n",
       "  <line x1=\"1\" y1=\"0\" x2=\"1\" y2=\"120\" />\n",
       "  <line x1=\"3\" y1=\"0\" x2=\"3\" y2=\"120\" />\n",
       "  <line x1=\"5\" y1=\"0\" x2=\"5\" y2=\"120\" />\n",
       "  <line x1=\"7\" y1=\"0\" x2=\"7\" y2=\"120\" />\n",
       "  <line x1=\"9\" y1=\"0\" x2=\"9\" y2=\"120\" />\n",
       "  <line x1=\"11\" y1=\"0\" x2=\"11\" y2=\"120\" />\n",
       "  <line x1=\"13\" y1=\"0\" x2=\"13\" y2=\"120\" />\n",
       "  <line x1=\"15\" y1=\"0\" x2=\"15\" y2=\"120\" />\n",
       "  <line x1=\"17\" y1=\"0\" x2=\"17\" y2=\"120\" />\n",
       "  <line x1=\"19\" y1=\"0\" x2=\"19\" y2=\"120\" />\n",
       "  <line x1=\"21\" y1=\"0\" x2=\"21\" y2=\"120\" />\n",
       "  <line x1=\"23\" y1=\"0\" x2=\"23\" y2=\"120\" />\n",
       "  <line x1=\"25\" y1=\"0\" x2=\"25\" y2=\"120\" />\n",
       "  <line x1=\"27\" y1=\"0\" x2=\"27\" y2=\"120\" />\n",
       "  <line x1=\"29\" y1=\"0\" x2=\"29\" y2=\"120\" />\n",
       "  <line x1=\"31\" y1=\"0\" x2=\"31\" y2=\"120\" />\n",
       "  <line x1=\"33\" y1=\"0\" x2=\"33\" y2=\"120\" />\n",
       "  <line x1=\"35\" y1=\"0\" x2=\"35\" y2=\"120\" />\n",
       "  <line x1=\"37\" y1=\"0\" x2=\"37\" y2=\"120\" style=\"stroke-width:2\" />\n",
       "\n",
       "  <!-- Colored Rectangle -->\n",
       "  <polygon points=\"0.0,0.0 37.56358655585696,0.0 37.56358655585696,120.0 0.0,120.0\" style=\"fill:#8B4903A0;stroke-width:0\"/>\n",
       "\n",
       "  <!-- Text -->\n",
       "  <text x=\"18.781793\" y=\"140.000000\" font-size=\"1.0rem\" font-weight=\"100\" text-anchor=\"middle\" >5000</text>\n",
       "  <text x=\"57.563587\" y=\"60.000000\" font-size=\"1.0rem\" font-weight=\"100\" text-anchor=\"middle\" transform=\"rotate(-90,57.563587,60.000000)\">60000</text>\n",
       "</svg>\n",
       "        </td>\n",
       "    </tr>\n",
       "</table>"
      ],
      "text/plain": [
       "dask.array<concatenate, shape=(60000, 5000), dtype=float64, chunksize=(21399, 100), chunktype=numpy.ndarray>"
      ]
     },
     "execution_count": 40,
     "metadata": {},
     "output_type": "execute_result"
    }
   ],
   "source": [
    "\n",
    "config = na.params.RegressionParams(\n",
    "    width=100,\n",
    "    depth=50,\n",
    "    input_dimension=len(train_data[0][0]),\n",
    "    transform_type=na.activations.TransformType.TENT,\n",
    "    transform_params=na.params.TentParams(mu=1.99),\n",
    "    output_dimension=len(train_data[0][1]),\n",
    "    batch_size=1000,\n",
    ")\n",
    "\n",
    "\n",
    "\n",
    "neurons = get_neurons(config)\n",
    "input_acts = da.matmul(imgs_train,  neurons)\n",
    "\n",
    "acts = [input_acts]\n",
    "for j in range(config.depth - 1):\n",
    "    acts.append(\n",
    "            tent(\n",
    "                acts[-1],\n",
    "                config.transform_params\n",
    "            )\n",
    "    )\n",
    "acts = da.concatenate(acts, axis=-1)\n",
    "acts"
   ]
  },
  {
   "cell_type": "code",
   "execution_count": null,
   "id": "61cd80f0",
   "metadata": {},
   "outputs": [
    {
     "name": "stdout",
     "output_type": "stream",
     "text": [
      "[########################################] | 100% Completed | 7.26 ss\n",
      "[########################################] | 100% Completed | 124.50 ms\n"
     ]
    }
   ],
   "source": [
    "\n",
    "with ProgressBar():\n",
    "    # print(type(acts.compute().compute()))\n",
    "    decoders = da.linalg.lstsq(acts.rechunk({0: 'auto', 1:-1}), imgs_train)[0]\n",
    "    decoders.to_zarr(\"decoder.zarr\")"
   ]
  },
  {
   "cell_type": "code",
   "execution_count": null,
   "id": "6a1b8c5c",
   "metadata": {},
   "outputs": [],
   "source": [
    "type(imgs_train)"
   ]
  },
  {
   "cell_type": "code",
   "execution_count": null,
   "id": "8c718ff7",
   "metadata": {},
   "outputs": [],
   "source": [
    "acts[0].shapddde"
   ]
  },
  {
   "cell_type": "code",
   "execution_count": null,
   "id": "0d868c2e",
   "metadata": {},
   "outputs": [],
   "source": [
    "\n",
    "imgs_train[0].shape"
   ]
  },
  {
   "cell_type": "code",
   "execution_count": null,
   "id": "6ec5db1f",
   "metadata": {},
   "outputs": [],
   "source": [
    "decoder = da.linalg.lstsq(\n",
    "   acts.rechunk({0: -1, 1:-1}),\n",
    "   labels_train\n",
    ")[0]\n",
    "    \n",
    "\n",
    "with ProgressBar():\n",
    "   decoder.to_zarr('decoders.zarr')   \n",
    "    "
   ]
  }
 ],
 "metadata": {
  "kernelspec": {
   "display_name": ".venv",
   "language": "python",
   "name": "python3"
  },
  "language_info": {
   "codemirror_mode": {
    "name": "ipython",
    "version": 3
   },
   "file_extension": ".py",
   "mimetype": "text/x-python",
   "name": "python",
   "nbconvert_exporter": "python",
   "pygments_lexer": "ipython3",
   "version": "3.11.11"
  }
 },
 "nbformat": 4,
 "nbformat_minor": 5
}
